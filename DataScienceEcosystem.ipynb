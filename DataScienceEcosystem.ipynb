{
 "cells": [
  {
   "cell_type": "markdown",
   "id": "24744c02-9da0-4ae1-b10e-731295966b23",
   "metadata": {
    "tags": []
   },
   "source": [
    "# Data Science Tools and Ecosystem"
   ]
  },
  {
   "cell_type": "markdown",
   "id": "30669b3a-bf4d-4205-b423-736fcf71ca5e",
   "metadata": {},
   "source": [
    "In this notebook, Data Science Tools and Ecosystem are summarized:"
   ]
  },
  {
   "cell_type": "markdown",
   "id": "8a6eb407-bdf8-47f1-b89d-fbcc000c43aa",
   "metadata": {},
   "source": [
    "Some of the popular languages that Data scientist use are:\n",
    "1. Python Language\n",
    "2. R language\n",
    "3. SQL\n",
    "4. Julia\n",
    "5. C++\n"
   ]
  },
  {
   "cell_type": "markdown",
   "id": "322907dc-8731-4178-9947-c9c865533a50",
   "metadata": {},
   "source": [
    "Some of the commonly used libraries used by Data Scientist include:\n",
    "1. TensorFlow\n",
    "2. NumPy\n",
    "3. Scikit-learn\n",
    "4. Pandas\n"
   ]
  },
  {
   "cell_type": "markdown",
   "id": "b0591545-ced0-4df9-a3c8-4b79589b005f",
   "metadata": {},
   "source": [
    "|Data Science Tools|\n",
    "|-------------------|\n",
    "|R Studio|\n",
    "|Jupyter Notebooks|\n",
    "|Zeppelin Notebooks|"
   ]
  },
  {
   "cell_type": "markdown",
   "id": "4e23d1b1-215d-4e66-b4d8-b940488e632f",
   "metadata": {},
   "source": [
    "### Below are a few examples of evaluating arithmetic expressions in Python"
   ]
  },
  {
   "cell_type": "code",
   "execution_count": 2,
   "id": "d6e92c15-a65b-4768-bee6-cab0fff3ffa1",
   "metadata": {
    "tags": []
   },
   "outputs": [
    {
     "data": {
      "text/plain": [
       "17"
      ]
     },
     "execution_count": 2,
     "metadata": {},
     "output_type": "execute_result"
    }
   ],
   "source": [
    "# This is a simple arithmetic expression to multiply then add integers\n",
    "(3*4)+5"
   ]
  },
  {
   "cell_type": "code",
   "execution_count": 5,
   "id": "02c74595-6689-48e1-b5b1-b8a7b6d0969e",
   "metadata": {
    "tags": []
   },
   "outputs": [
    {
     "data": {
      "text/plain": [
       "3.3333333333333335"
      ]
     },
     "execution_count": 5,
     "metadata": {},
     "output_type": "execute_result"
    }
   ],
   "source": [
    "# This arithmetic expression will convert 200 minutes to hours by dividing by 60\n",
    "200/60"
   ]
  },
  {
   "cell_type": "markdown",
   "id": "930c0ad2-60a9-44b7-bf44-636bb0850bd1",
   "metadata": {},
   "source": [
    "**Objectives**:\n",
    "* List popular languages for Data science\n",
    "* Commonly used development environment in Data science\n",
    "* list of Data science tools\n",
    "* Understanding how to write and execute code in Jupyter notebook"
   ]
  },
  {
   "cell_type": "markdown",
   "id": "1527ab1f-8f76-4319-9c15-6a3d1ab271f7",
   "metadata": {},
   "source": [
    "## Author\n",
    "Sampath Guruprasad"
   ]
  },
  {
   "cell_type": "code",
   "execution_count": null,
   "id": "8c910b9b-8bce-4376-bb7f-7b0040377911",
   "metadata": {},
   "outputs": [],
   "source": []
  }
 ],
 "metadata": {
  "kernelspec": {
   "display_name": "Python",
   "language": "python",
   "name": "conda-env-python-py"
  },
  "language_info": {
   "codemirror_mode": {
    "name": "ipython",
    "version": 3
   },
   "file_extension": ".py",
   "mimetype": "text/x-python",
   "name": "python",
   "nbconvert_exporter": "python",
   "pygments_lexer": "ipython3",
   "version": "3.7.12"
  }
 },
 "nbformat": 4,
 "nbformat_minor": 5
}
